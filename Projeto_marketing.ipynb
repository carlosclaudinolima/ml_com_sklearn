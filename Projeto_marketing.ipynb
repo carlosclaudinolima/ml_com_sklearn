{
  "nbformat": 4,
  "nbformat_minor": 0,
  "metadata": {
    "colab": {
      "provenance": [],
      "collapsed_sections": [
        "3ybQzUklV8Ns",
        "P9KSZdeeifXu",
        "wjmu8EK-i5Wl",
        "8JVUwm9HGzeP"
      ],
      "include_colab_link": true
    },
    "kernelspec": {
      "name": "python3",
      "display_name": "Python 3"
    },
    "language_info": {
      "name": "python"
    }
  },
  "cells": [
    {
      "cell_type": "markdown",
      "metadata": {
        "id": "view-in-github",
        "colab_type": "text"
      },
      "source": [
        "<a href=\"https://colab.research.google.com/github/carlosclaudinolima/ml_com_sklearn/blob/main/Projeto_marketing.ipynb\" target=\"_parent\"><img src=\"https://colab.research.google.com/assets/colab-badge.svg\" alt=\"Open In Colab\"/></a>"
      ]
    },
    {
      "cell_type": "code",
      "source": [
        "import pandas as pd\n",
        "import numpy as np\n",
        "import matplotlib.pyplot as plt\n",
        "import seaborn as sns"
      ],
      "metadata": {
        "id": "bxz8p78RzTJJ"
      },
      "execution_count": 1,
      "outputs": []
    },
    {
      "cell_type": "code",
      "source": [
        "url = 'https://raw.githubusercontent.com/alura-cursos/Clusterizacao-dados-sem-rotulo/main/Dados/dados_mkt.csv'"
      ],
      "metadata": {
        "id": "Jj89PU-QA_4j"
      },
      "execution_count": 2,
      "outputs": []
    },
    {
      "cell_type": "markdown",
      "source": [
        "# Coletando e ajustando dados"
      ],
      "metadata": {
        "id": "2inWQPh_ggmu"
      }
    },
    {
      "cell_type": "code",
      "source": [
        "df = pd.read_csv(url)\n",
        "df"
      ],
      "metadata": {
        "id": "w1YjJ4j7zQoL",
        "colab": {
          "base_uri": "https://localhost:8080/",
          "height": 444
        },
        "outputId": "09d77817-1189-4d2e-cbca-2c906e17741a"
      },
      "execution_count": 3,
      "outputs": [
        {
          "output_type": "execute_result",
          "data": {
            "text/plain": [
              "      sexo  idade  numero_de_amigos  basquete  futebol_americano  futebol  \\\n",
              "0        F     27                49         0                  0       10   \n",
              "1        F     27                41         0                  0        0   \n",
              "2        F     26                 1         0                  0        0   \n",
              "3        M     28                32         0                 50        0   \n",
              "4        M     28                18         0                  0        0   \n",
              "...    ...    ...               ...       ...                ...      ...   \n",
              "12987    F     26                21         0                  0        0   \n",
              "12988    F     26                50         0                  0        0   \n",
              "12989    F     27                32         0                  0        0   \n",
              "12990    F     27                20         0                  0        0   \n",
              "12991    F     25                25         0                  0       70   \n",
              "\n",
              "       softbol  voleibol  natacao  animacao  ...  musica  rock  cabelo  \\\n",
              "0            0         0       10         0  ...       0     0       0   \n",
              "1            0         0        0         0  ...      10    20      40   \n",
              "2            0         0       10         0  ...      10     0      50   \n",
              "3            0         0        0         0  ...      10    10       0   \n",
              "4            0         0        0         0  ...       0     0       0   \n",
              "...        ...       ...      ...       ...  ...     ...   ...     ...   \n",
              "12987        0         0        0         0  ...       0    10      10   \n",
              "12988        0         0        0         0  ...       0     0       0   \n",
              "12989        0         0        0        10  ...       0     0       0   \n",
              "12990        0         0        0         0  ...      10     0       0   \n",
              "12991        0         0        0         0  ...      20     0       0   \n",
              "\n",
              "       vestido  shopping  compras  roupas  nossa_marca  marca_concorrente  \\\n",
              "0            0         0        0       0            0                  0   \n",
              "1            0        10        0       0            0                  0   \n",
              "2            0         0        0      30            0                  0   \n",
              "3            0         0        0       0            0                  0   \n",
              "4            0         0        0      10            0                  0   \n",
              "...        ...       ...      ...     ...          ...                ...   \n",
              "12987        0         0        0      20            0                  0   \n",
              "12988        0         0        0       0            0                  0   \n",
              "12989        0         0        0       0            0                  0   \n",
              "12990        0         0        0       0            0                  0   \n",
              "12991        0        20       10      10            0                  0   \n",
              "\n",
              "       bebidas  \n",
              "0           10  \n",
              "1           10  \n",
              "2            0  \n",
              "3            0  \n",
              "4            0  \n",
              "...        ...  \n",
              "12987        0  \n",
              "12988        0  \n",
              "12989        0  \n",
              "12990        0  \n",
              "12991        0  \n",
              "\n",
              "[12992 rows x 27 columns]"
            ],
            "text/html": [
              "\n",
              "  <div id=\"df-c2d995aa-a93f-4b0c-ae7c-3ad2ccb856cd\" class=\"colab-df-container\">\n",
              "    <div>\n",
              "<style scoped>\n",
              "    .dataframe tbody tr th:only-of-type {\n",
              "        vertical-align: middle;\n",
              "    }\n",
              "\n",
              "    .dataframe tbody tr th {\n",
              "        vertical-align: top;\n",
              "    }\n",
              "\n",
              "    .dataframe thead th {\n",
              "        text-align: right;\n",
              "    }\n",
              "</style>\n",
              "<table border=\"1\" class=\"dataframe\">\n",
              "  <thead>\n",
              "    <tr style=\"text-align: right;\">\n",
              "      <th></th>\n",
              "      <th>sexo</th>\n",
              "      <th>idade</th>\n",
              "      <th>numero_de_amigos</th>\n",
              "      <th>basquete</th>\n",
              "      <th>futebol_americano</th>\n",
              "      <th>futebol</th>\n",
              "      <th>softbol</th>\n",
              "      <th>voleibol</th>\n",
              "      <th>natacao</th>\n",
              "      <th>animacao</th>\n",
              "      <th>...</th>\n",
              "      <th>musica</th>\n",
              "      <th>rock</th>\n",
              "      <th>cabelo</th>\n",
              "      <th>vestido</th>\n",
              "      <th>shopping</th>\n",
              "      <th>compras</th>\n",
              "      <th>roupas</th>\n",
              "      <th>nossa_marca</th>\n",
              "      <th>marca_concorrente</th>\n",
              "      <th>bebidas</th>\n",
              "    </tr>\n",
              "  </thead>\n",
              "  <tbody>\n",
              "    <tr>\n",
              "      <th>0</th>\n",
              "      <td>F</td>\n",
              "      <td>27</td>\n",
              "      <td>49</td>\n",
              "      <td>0</td>\n",
              "      <td>0</td>\n",
              "      <td>10</td>\n",
              "      <td>0</td>\n",
              "      <td>0</td>\n",
              "      <td>10</td>\n",
              "      <td>0</td>\n",
              "      <td>...</td>\n",
              "      <td>0</td>\n",
              "      <td>0</td>\n",
              "      <td>0</td>\n",
              "      <td>0</td>\n",
              "      <td>0</td>\n",
              "      <td>0</td>\n",
              "      <td>0</td>\n",
              "      <td>0</td>\n",
              "      <td>0</td>\n",
              "      <td>10</td>\n",
              "    </tr>\n",
              "    <tr>\n",
              "      <th>1</th>\n",
              "      <td>F</td>\n",
              "      <td>27</td>\n",
              "      <td>41</td>\n",
              "      <td>0</td>\n",
              "      <td>0</td>\n",
              "      <td>0</td>\n",
              "      <td>0</td>\n",
              "      <td>0</td>\n",
              "      <td>0</td>\n",
              "      <td>0</td>\n",
              "      <td>...</td>\n",
              "      <td>10</td>\n",
              "      <td>20</td>\n",
              "      <td>40</td>\n",
              "      <td>0</td>\n",
              "      <td>10</td>\n",
              "      <td>0</td>\n",
              "      <td>0</td>\n",
              "      <td>0</td>\n",
              "      <td>0</td>\n",
              "      <td>10</td>\n",
              "    </tr>\n",
              "    <tr>\n",
              "      <th>2</th>\n",
              "      <td>F</td>\n",
              "      <td>26</td>\n",
              "      <td>1</td>\n",
              "      <td>0</td>\n",
              "      <td>0</td>\n",
              "      <td>0</td>\n",
              "      <td>0</td>\n",
              "      <td>0</td>\n",
              "      <td>10</td>\n",
              "      <td>0</td>\n",
              "      <td>...</td>\n",
              "      <td>10</td>\n",
              "      <td>0</td>\n",
              "      <td>50</td>\n",
              "      <td>0</td>\n",
              "      <td>0</td>\n",
              "      <td>0</td>\n",
              "      <td>30</td>\n",
              "      <td>0</td>\n",
              "      <td>0</td>\n",
              "      <td>0</td>\n",
              "    </tr>\n",
              "    <tr>\n",
              "      <th>3</th>\n",
              "      <td>M</td>\n",
              "      <td>28</td>\n",
              "      <td>32</td>\n",
              "      <td>0</td>\n",
              "      <td>50</td>\n",
              "      <td>0</td>\n",
              "      <td>0</td>\n",
              "      <td>0</td>\n",
              "      <td>0</td>\n",
              "      <td>0</td>\n",
              "      <td>...</td>\n",
              "      <td>10</td>\n",
              "      <td>10</td>\n",
              "      <td>0</td>\n",
              "      <td>0</td>\n",
              "      <td>0</td>\n",
              "      <td>0</td>\n",
              "      <td>0</td>\n",
              "      <td>0</td>\n",
              "      <td>0</td>\n",
              "      <td>0</td>\n",
              "    </tr>\n",
              "    <tr>\n",
              "      <th>4</th>\n",
              "      <td>M</td>\n",
              "      <td>28</td>\n",
              "      <td>18</td>\n",
              "      <td>0</td>\n",
              "      <td>0</td>\n",
              "      <td>0</td>\n",
              "      <td>0</td>\n",
              "      <td>0</td>\n",
              "      <td>0</td>\n",
              "      <td>0</td>\n",
              "      <td>...</td>\n",
              "      <td>0</td>\n",
              "      <td>0</td>\n",
              "      <td>0</td>\n",
              "      <td>0</td>\n",
              "      <td>0</td>\n",
              "      <td>0</td>\n",
              "      <td>10</td>\n",
              "      <td>0</td>\n",
              "      <td>0</td>\n",
              "      <td>0</td>\n",
              "    </tr>\n",
              "    <tr>\n",
              "      <th>...</th>\n",
              "      <td>...</td>\n",
              "      <td>...</td>\n",
              "      <td>...</td>\n",
              "      <td>...</td>\n",
              "      <td>...</td>\n",
              "      <td>...</td>\n",
              "      <td>...</td>\n",
              "      <td>...</td>\n",
              "      <td>...</td>\n",
              "      <td>...</td>\n",
              "      <td>...</td>\n",
              "      <td>...</td>\n",
              "      <td>...</td>\n",
              "      <td>...</td>\n",
              "      <td>...</td>\n",
              "      <td>...</td>\n",
              "      <td>...</td>\n",
              "      <td>...</td>\n",
              "      <td>...</td>\n",
              "      <td>...</td>\n",
              "      <td>...</td>\n",
              "    </tr>\n",
              "    <tr>\n",
              "      <th>12987</th>\n",
              "      <td>F</td>\n",
              "      <td>26</td>\n",
              "      <td>21</td>\n",
              "      <td>0</td>\n",
              "      <td>0</td>\n",
              "      <td>0</td>\n",
              "      <td>0</td>\n",
              "      <td>0</td>\n",
              "      <td>0</td>\n",
              "      <td>0</td>\n",
              "      <td>...</td>\n",
              "      <td>0</td>\n",
              "      <td>10</td>\n",
              "      <td>10</td>\n",
              "      <td>0</td>\n",
              "      <td>0</td>\n",
              "      <td>0</td>\n",
              "      <td>20</td>\n",
              "      <td>0</td>\n",
              "      <td>0</td>\n",
              "      <td>0</td>\n",
              "    </tr>\n",
              "    <tr>\n",
              "      <th>12988</th>\n",
              "      <td>F</td>\n",
              "      <td>26</td>\n",
              "      <td>50</td>\n",
              "      <td>0</td>\n",
              "      <td>0</td>\n",
              "      <td>0</td>\n",
              "      <td>0</td>\n",
              "      <td>0</td>\n",
              "      <td>0</td>\n",
              "      <td>0</td>\n",
              "      <td>...</td>\n",
              "      <td>0</td>\n",
              "      <td>0</td>\n",
              "      <td>0</td>\n",
              "      <td>0</td>\n",
              "      <td>0</td>\n",
              "      <td>0</td>\n",
              "      <td>0</td>\n",
              "      <td>0</td>\n",
              "      <td>0</td>\n",
              "      <td>0</td>\n",
              "    </tr>\n",
              "    <tr>\n",
              "      <th>12989</th>\n",
              "      <td>F</td>\n",
              "      <td>27</td>\n",
              "      <td>32</td>\n",
              "      <td>0</td>\n",
              "      <td>0</td>\n",
              "      <td>0</td>\n",
              "      <td>0</td>\n",
              "      <td>0</td>\n",
              "      <td>0</td>\n",
              "      <td>10</td>\n",
              "      <td>...</td>\n",
              "      <td>0</td>\n",
              "      <td>0</td>\n",
              "      <td>0</td>\n",
              "      <td>0</td>\n",
              "      <td>0</td>\n",
              "      <td>0</td>\n",
              "      <td>0</td>\n",
              "      <td>0</td>\n",
              "      <td>0</td>\n",
              "      <td>0</td>\n",
              "    </tr>\n",
              "    <tr>\n",
              "      <th>12990</th>\n",
              "      <td>F</td>\n",
              "      <td>27</td>\n",
              "      <td>20</td>\n",
              "      <td>0</td>\n",
              "      <td>0</td>\n",
              "      <td>0</td>\n",
              "      <td>0</td>\n",
              "      <td>0</td>\n",
              "      <td>0</td>\n",
              "      <td>0</td>\n",
              "      <td>...</td>\n",
              "      <td>10</td>\n",
              "      <td>0</td>\n",
              "      <td>0</td>\n",
              "      <td>0</td>\n",
              "      <td>0</td>\n",
              "      <td>0</td>\n",
              "      <td>0</td>\n",
              "      <td>0</td>\n",
              "      <td>0</td>\n",
              "      <td>0</td>\n",
              "    </tr>\n",
              "    <tr>\n",
              "      <th>12991</th>\n",
              "      <td>F</td>\n",
              "      <td>25</td>\n",
              "      <td>25</td>\n",
              "      <td>0</td>\n",
              "      <td>0</td>\n",
              "      <td>70</td>\n",
              "      <td>0</td>\n",
              "      <td>0</td>\n",
              "      <td>0</td>\n",
              "      <td>0</td>\n",
              "      <td>...</td>\n",
              "      <td>20</td>\n",
              "      <td>0</td>\n",
              "      <td>0</td>\n",
              "      <td>0</td>\n",
              "      <td>20</td>\n",
              "      <td>10</td>\n",
              "      <td>10</td>\n",
              "      <td>0</td>\n",
              "      <td>0</td>\n",
              "      <td>0</td>\n",
              "    </tr>\n",
              "  </tbody>\n",
              "</table>\n",
              "<p>12992 rows × 27 columns</p>\n",
              "</div>\n",
              "    <div class=\"colab-df-buttons\">\n",
              "\n",
              "  <div class=\"colab-df-container\">\n",
              "    <button class=\"colab-df-convert\" onclick=\"convertToInteractive('df-c2d995aa-a93f-4b0c-ae7c-3ad2ccb856cd')\"\n",
              "            title=\"Convert this dataframe to an interactive table.\"\n",
              "            style=\"display:none;\">\n",
              "\n",
              "  <svg xmlns=\"http://www.w3.org/2000/svg\" height=\"24px\" viewBox=\"0 -960 960 960\">\n",
              "    <path d=\"M120-120v-720h720v720H120Zm60-500h600v-160H180v160Zm220 220h160v-160H400v160Zm0 220h160v-160H400v160ZM180-400h160v-160H180v160Zm440 0h160v-160H620v160ZM180-180h160v-160H180v160Zm440 0h160v-160H620v160Z\"/>\n",
              "  </svg>\n",
              "    </button>\n",
              "\n",
              "  <style>\n",
              "    .colab-df-container {\n",
              "      display:flex;\n",
              "      gap: 12px;\n",
              "    }\n",
              "\n",
              "    .colab-df-convert {\n",
              "      background-color: #E8F0FE;\n",
              "      border: none;\n",
              "      border-radius: 50%;\n",
              "      cursor: pointer;\n",
              "      display: none;\n",
              "      fill: #1967D2;\n",
              "      height: 32px;\n",
              "      padding: 0 0 0 0;\n",
              "      width: 32px;\n",
              "    }\n",
              "\n",
              "    .colab-df-convert:hover {\n",
              "      background-color: #E2EBFA;\n",
              "      box-shadow: 0px 1px 2px rgba(60, 64, 67, 0.3), 0px 1px 3px 1px rgba(60, 64, 67, 0.15);\n",
              "      fill: #174EA6;\n",
              "    }\n",
              "\n",
              "    .colab-df-buttons div {\n",
              "      margin-bottom: 4px;\n",
              "    }\n",
              "\n",
              "    [theme=dark] .colab-df-convert {\n",
              "      background-color: #3B4455;\n",
              "      fill: #D2E3FC;\n",
              "    }\n",
              "\n",
              "    [theme=dark] .colab-df-convert:hover {\n",
              "      background-color: #434B5C;\n",
              "      box-shadow: 0px 1px 3px 1px rgba(0, 0, 0, 0.15);\n",
              "      filter: drop-shadow(0px 1px 2px rgba(0, 0, 0, 0.3));\n",
              "      fill: #FFFFFF;\n",
              "    }\n",
              "  </style>\n",
              "\n",
              "    <script>\n",
              "      const buttonEl =\n",
              "        document.querySelector('#df-c2d995aa-a93f-4b0c-ae7c-3ad2ccb856cd button.colab-df-convert');\n",
              "      buttonEl.style.display =\n",
              "        google.colab.kernel.accessAllowed ? 'block' : 'none';\n",
              "\n",
              "      async function convertToInteractive(key) {\n",
              "        const element = document.querySelector('#df-c2d995aa-a93f-4b0c-ae7c-3ad2ccb856cd');\n",
              "        const dataTable =\n",
              "          await google.colab.kernel.invokeFunction('convertToInteractive',\n",
              "                                                    [key], {});\n",
              "        if (!dataTable) return;\n",
              "\n",
              "        const docLinkHtml = 'Like what you see? Visit the ' +\n",
              "          '<a target=\"_blank\" href=https://colab.research.google.com/notebooks/data_table.ipynb>data table notebook</a>'\n",
              "          + ' to learn more about interactive tables.';\n",
              "        element.innerHTML = '';\n",
              "        dataTable['output_type'] = 'display_data';\n",
              "        await google.colab.output.renderOutput(dataTable, element);\n",
              "        const docLink = document.createElement('div');\n",
              "        docLink.innerHTML = docLinkHtml;\n",
              "        element.appendChild(docLink);\n",
              "      }\n",
              "    </script>\n",
              "  </div>\n",
              "\n",
              "\n",
              "    <div id=\"df-7d051379-252c-43cc-af48-50821ac4b014\">\n",
              "      <button class=\"colab-df-quickchart\" onclick=\"quickchart('df-7d051379-252c-43cc-af48-50821ac4b014')\"\n",
              "                title=\"Suggest charts\"\n",
              "                style=\"display:none;\">\n",
              "\n",
              "<svg xmlns=\"http://www.w3.org/2000/svg\" height=\"24px\"viewBox=\"0 0 24 24\"\n",
              "     width=\"24px\">\n",
              "    <g>\n",
              "        <path d=\"M19 3H5c-1.1 0-2 .9-2 2v14c0 1.1.9 2 2 2h14c1.1 0 2-.9 2-2V5c0-1.1-.9-2-2-2zM9 17H7v-7h2v7zm4 0h-2V7h2v10zm4 0h-2v-4h2v4z\"/>\n",
              "    </g>\n",
              "</svg>\n",
              "      </button>\n",
              "\n",
              "<style>\n",
              "  .colab-df-quickchart {\n",
              "      --bg-color: #E8F0FE;\n",
              "      --fill-color: #1967D2;\n",
              "      --hover-bg-color: #E2EBFA;\n",
              "      --hover-fill-color: #174EA6;\n",
              "      --disabled-fill-color: #AAA;\n",
              "      --disabled-bg-color: #DDD;\n",
              "  }\n",
              "\n",
              "  [theme=dark] .colab-df-quickchart {\n",
              "      --bg-color: #3B4455;\n",
              "      --fill-color: #D2E3FC;\n",
              "      --hover-bg-color: #434B5C;\n",
              "      --hover-fill-color: #FFFFFF;\n",
              "      --disabled-bg-color: #3B4455;\n",
              "      --disabled-fill-color: #666;\n",
              "  }\n",
              "\n",
              "  .colab-df-quickchart {\n",
              "    background-color: var(--bg-color);\n",
              "    border: none;\n",
              "    border-radius: 50%;\n",
              "    cursor: pointer;\n",
              "    display: none;\n",
              "    fill: var(--fill-color);\n",
              "    height: 32px;\n",
              "    padding: 0;\n",
              "    width: 32px;\n",
              "  }\n",
              "\n",
              "  .colab-df-quickchart:hover {\n",
              "    background-color: var(--hover-bg-color);\n",
              "    box-shadow: 0 1px 2px rgba(60, 64, 67, 0.3), 0 1px 3px 1px rgba(60, 64, 67, 0.15);\n",
              "    fill: var(--button-hover-fill-color);\n",
              "  }\n",
              "\n",
              "  .colab-df-quickchart-complete:disabled,\n",
              "  .colab-df-quickchart-complete:disabled:hover {\n",
              "    background-color: var(--disabled-bg-color);\n",
              "    fill: var(--disabled-fill-color);\n",
              "    box-shadow: none;\n",
              "  }\n",
              "\n",
              "  .colab-df-spinner {\n",
              "    border: 2px solid var(--fill-color);\n",
              "    border-color: transparent;\n",
              "    border-bottom-color: var(--fill-color);\n",
              "    animation:\n",
              "      spin 1s steps(1) infinite;\n",
              "  }\n",
              "\n",
              "  @keyframes spin {\n",
              "    0% {\n",
              "      border-color: transparent;\n",
              "      border-bottom-color: var(--fill-color);\n",
              "      border-left-color: var(--fill-color);\n",
              "    }\n",
              "    20% {\n",
              "      border-color: transparent;\n",
              "      border-left-color: var(--fill-color);\n",
              "      border-top-color: var(--fill-color);\n",
              "    }\n",
              "    30% {\n",
              "      border-color: transparent;\n",
              "      border-left-color: var(--fill-color);\n",
              "      border-top-color: var(--fill-color);\n",
              "      border-right-color: var(--fill-color);\n",
              "    }\n",
              "    40% {\n",
              "      border-color: transparent;\n",
              "      border-right-color: var(--fill-color);\n",
              "      border-top-color: var(--fill-color);\n",
              "    }\n",
              "    60% {\n",
              "      border-color: transparent;\n",
              "      border-right-color: var(--fill-color);\n",
              "    }\n",
              "    80% {\n",
              "      border-color: transparent;\n",
              "      border-right-color: var(--fill-color);\n",
              "      border-bottom-color: var(--fill-color);\n",
              "    }\n",
              "    90% {\n",
              "      border-color: transparent;\n",
              "      border-bottom-color: var(--fill-color);\n",
              "    }\n",
              "  }\n",
              "</style>\n",
              "\n",
              "      <script>\n",
              "        async function quickchart(key) {\n",
              "          const quickchartButtonEl =\n",
              "            document.querySelector('#' + key + ' button');\n",
              "          quickchartButtonEl.disabled = true;  // To prevent multiple clicks.\n",
              "          quickchartButtonEl.classList.add('colab-df-spinner');\n",
              "          try {\n",
              "            const charts = await google.colab.kernel.invokeFunction(\n",
              "                'suggestCharts', [key], {});\n",
              "          } catch (error) {\n",
              "            console.error('Error during call to suggestCharts:', error);\n",
              "          }\n",
              "          quickchartButtonEl.classList.remove('colab-df-spinner');\n",
              "          quickchartButtonEl.classList.add('colab-df-quickchart-complete');\n",
              "        }\n",
              "        (() => {\n",
              "          let quickchartButtonEl =\n",
              "            document.querySelector('#df-7d051379-252c-43cc-af48-50821ac4b014 button');\n",
              "          quickchartButtonEl.style.display =\n",
              "            google.colab.kernel.accessAllowed ? 'block' : 'none';\n",
              "        })();\n",
              "      </script>\n",
              "    </div>\n",
              "\n",
              "  <div id=\"id_512cabee-2c6a-4b54-9fa2-d0fa09275aac\">\n",
              "    <style>\n",
              "      .colab-df-generate {\n",
              "        background-color: #E8F0FE;\n",
              "        border: none;\n",
              "        border-radius: 50%;\n",
              "        cursor: pointer;\n",
              "        display: none;\n",
              "        fill: #1967D2;\n",
              "        height: 32px;\n",
              "        padding: 0 0 0 0;\n",
              "        width: 32px;\n",
              "      }\n",
              "\n",
              "      .colab-df-generate:hover {\n",
              "        background-color: #E2EBFA;\n",
              "        box-shadow: 0px 1px 2px rgba(60, 64, 67, 0.3), 0px 1px 3px 1px rgba(60, 64, 67, 0.15);\n",
              "        fill: #174EA6;\n",
              "      }\n",
              "\n",
              "      [theme=dark] .colab-df-generate {\n",
              "        background-color: #3B4455;\n",
              "        fill: #D2E3FC;\n",
              "      }\n",
              "\n",
              "      [theme=dark] .colab-df-generate:hover {\n",
              "        background-color: #434B5C;\n",
              "        box-shadow: 0px 1px 3px 1px rgba(0, 0, 0, 0.15);\n",
              "        filter: drop-shadow(0px 1px 2px rgba(0, 0, 0, 0.3));\n",
              "        fill: #FFFFFF;\n",
              "      }\n",
              "    </style>\n",
              "    <button class=\"colab-df-generate\" onclick=\"generateWithVariable('df')\"\n",
              "            title=\"Generate code using this dataframe.\"\n",
              "            style=\"display:none;\">\n",
              "\n",
              "  <svg xmlns=\"http://www.w3.org/2000/svg\" height=\"24px\"viewBox=\"0 0 24 24\"\n",
              "       width=\"24px\">\n",
              "    <path d=\"M7,19H8.4L18.45,9,17,7.55,7,17.6ZM5,21V16.75L18.45,3.32a2,2,0,0,1,2.83,0l1.4,1.43a1.91,1.91,0,0,1,.58,1.4,1.91,1.91,0,0,1-.58,1.4L9.25,21ZM18.45,9,17,7.55Zm-12,3A5.31,5.31,0,0,0,4.9,8.1,5.31,5.31,0,0,0,1,6.5,5.31,5.31,0,0,0,4.9,4.9,5.31,5.31,0,0,0,6.5,1,5.31,5.31,0,0,0,8.1,4.9,5.31,5.31,0,0,0,12,6.5,5.46,5.46,0,0,0,6.5,12Z\"/>\n",
              "  </svg>\n",
              "    </button>\n",
              "    <script>\n",
              "      (() => {\n",
              "      const buttonEl =\n",
              "        document.querySelector('#id_512cabee-2c6a-4b54-9fa2-d0fa09275aac button.colab-df-generate');\n",
              "      buttonEl.style.display =\n",
              "        google.colab.kernel.accessAllowed ? 'block' : 'none';\n",
              "\n",
              "      buttonEl.onclick = () => {\n",
              "        google.colab.notebook.generateWithVariable('df');\n",
              "      }\n",
              "      })();\n",
              "    </script>\n",
              "  </div>\n",
              "\n",
              "    </div>\n",
              "  </div>\n"
            ],
            "application/vnd.google.colaboratory.intrinsic+json": {
              "type": "dataframe",
              "variable_name": "df"
            }
          },
          "metadata": {},
          "execution_count": 3
        }
      ]
    },
    {
      "cell_type": "code",
      "source": [
        "df.info()"
      ],
      "metadata": {
        "id": "Ay15UgDuzQkz",
        "colab": {
          "base_uri": "https://localhost:8080/"
        },
        "outputId": "f28eb9a9-5ebe-4577-d865-0d0ac7e0b677"
      },
      "execution_count": 4,
      "outputs": [
        {
          "output_type": "stream",
          "name": "stdout",
          "text": [
            "<class 'pandas.core.frame.DataFrame'>\n",
            "RangeIndex: 12992 entries, 0 to 12991\n",
            "Data columns (total 27 columns):\n",
            " #   Column             Non-Null Count  Dtype \n",
            "---  ------             --------------  ----- \n",
            " 0   sexo               12992 non-null  object\n",
            " 1   idade              12992 non-null  int64 \n",
            " 2   numero_de_amigos   12992 non-null  int64 \n",
            " 3   basquete           12992 non-null  int64 \n",
            " 4   futebol_americano  12992 non-null  int64 \n",
            " 5   futebol            12992 non-null  int64 \n",
            " 6   softbol            12992 non-null  int64 \n",
            " 7   voleibol           12992 non-null  int64 \n",
            " 8   natacao            12992 non-null  int64 \n",
            " 9   animacao           12992 non-null  int64 \n",
            " 10  beisebol           12992 non-null  int64 \n",
            " 11  tenis              12992 non-null  int64 \n",
            " 12  esportes           12992 non-null  int64 \n",
            " 13  fofo               12992 non-null  int64 \n",
            " 14  danca              12992 non-null  int64 \n",
            " 15  banda              12992 non-null  int64 \n",
            " 16  marcha             12992 non-null  int64 \n",
            " 17  musica             12992 non-null  int64 \n",
            " 18  rock               12992 non-null  int64 \n",
            " 19  cabelo             12992 non-null  int64 \n",
            " 20  vestido            12992 non-null  int64 \n",
            " 21  shopping           12992 non-null  int64 \n",
            " 22  compras            12992 non-null  int64 \n",
            " 23  roupas             12992 non-null  int64 \n",
            " 24  nossa_marca        12992 non-null  int64 \n",
            " 25  marca_concorrente  12992 non-null  int64 \n",
            " 26  bebidas            12992 non-null  int64 \n",
            "dtypes: int64(26), object(1)\n",
            "memory usage: 2.7+ MB\n"
          ]
        }
      ]
    },
    {
      "cell_type": "code",
      "source": [
        "df['sexo'].unique()"
      ],
      "metadata": {
        "id": "8ClCczbBzRsn",
        "colab": {
          "base_uri": "https://localhost:8080/"
        },
        "outputId": "7c834701-4581-4baf-a090-8c0b3f6331d7"
      },
      "execution_count": 5,
      "outputs": [
        {
          "output_type": "execute_result",
          "data": {
            "text/plain": [
              "array(['F', 'M', 'NE'], dtype=object)"
            ]
          },
          "metadata": {},
          "execution_count": 5
        }
      ]
    },
    {
      "cell_type": "markdown",
      "source": [
        "## Aplicando encoder"
      ],
      "metadata": {
        "id": "3OO7Kc1ig3DA"
      }
    },
    {
      "cell_type": "code",
      "source": [
        "from sklearn.preprocessing import OneHotEncoder\n",
        "\n",
        "encoder = OneHotEncoder(categories=[['NE', 'F', 'M']], sparse_output=False)"
      ],
      "metadata": {
        "id": "r1xrlaqIzNDd"
      },
      "execution_count": 8,
      "outputs": []
    },
    {
      "cell_type": "code",
      "source": [
        "encoded_sexo = encoder.fit_transform(df[['sexo']])\n",
        "encoded_sexo"
      ],
      "metadata": {
        "id": "XoZYTZmszM-J",
        "colab": {
          "base_uri": "https://localhost:8080/"
        },
        "outputId": "73b5e085-f3ac-4172-b1fe-0d09532c8e3f"
      },
      "execution_count": 10,
      "outputs": [
        {
          "output_type": "execute_result",
          "data": {
            "text/plain": [
              "array([[0., 1., 0.],\n",
              "       [0., 1., 0.],\n",
              "       [0., 1., 0.],\n",
              "       ...,\n",
              "       [0., 1., 0.],\n",
              "       [0., 1., 0.],\n",
              "       [0., 1., 0.]])"
            ]
          },
          "metadata": {},
          "execution_count": 10
        }
      ]
    },
    {
      "cell_type": "code",
      "source": [
        "encoded_df = pd.DataFrame(encoded_sexo, columns=encoder.get_feature_names_out(['sexo']))"
      ],
      "metadata": {
        "id": "ZoxAPhW1zM2u"
      },
      "execution_count": 12,
      "outputs": []
    },
    {
      "cell_type": "code",
      "source": [
        "dados = pd.concat([df, encoded_df])"
      ],
      "metadata": {
        "id": "EEgv6ZujzMvz"
      },
      "execution_count": 14,
      "outputs": []
    },
    {
      "cell_type": "code",
      "source": [],
      "metadata": {
        "id": "DcKP7GoFzMp9"
      },
      "execution_count": null,
      "outputs": []
    },
    {
      "cell_type": "markdown",
      "source": [
        "## Desenvolvendo o modelo"
      ],
      "metadata": {
        "id": "7EJQiUPthTFo"
      }
    },
    {
      "cell_type": "code",
      "source": [],
      "metadata": {
        "id": "HWkWwsFIzEfw"
      },
      "execution_count": null,
      "outputs": []
    },
    {
      "cell_type": "code",
      "source": [],
      "metadata": {
        "id": "2nde7P-CzEWF"
      },
      "execution_count": null,
      "outputs": []
    },
    {
      "cell_type": "markdown",
      "source": [
        "# Avaliando o K-means"
      ],
      "metadata": {
        "id": "w0XPkSH-hj5Q"
      }
    },
    {
      "cell_type": "code",
      "source": [],
      "metadata": {
        "id": "6gw-7xWBy8_C"
      },
      "execution_count": null,
      "outputs": []
    },
    {
      "cell_type": "code",
      "source": [],
      "metadata": {
        "id": "1tUvMdgAy86L"
      },
      "execution_count": null,
      "outputs": []
    },
    {
      "cell_type": "markdown",
      "source": [
        "## Avaliando métricas para diferentes K"
      ],
      "metadata": {
        "id": "nSpCzX-Ghxxq"
      }
    },
    {
      "cell_type": "code",
      "source": [],
      "metadata": {
        "id": "jqvpSJYOy6XS"
      },
      "execution_count": null,
      "outputs": []
    },
    {
      "cell_type": "code",
      "source": [],
      "metadata": {
        "id": "Glv5ejSXy6Si"
      },
      "execution_count": null,
      "outputs": []
    },
    {
      "cell_type": "markdown",
      "source": [
        "## Aula 2.3 - Verificando a silhueta por amostras"
      ],
      "metadata": {
        "id": "InCv_WqI-611"
      }
    },
    {
      "cell_type": "code",
      "source": [
        "import matplotlib.cm as cm\n",
        "from sklearn.metrics import silhouette_samples\n",
        "\n",
        "def graf_silhueta (n_clusters, dados):\n",
        "\n",
        "  # Aplica o KMeans ao conjunto de dados\n",
        "  kmeans = KMeans(n_clusters=n_clusters, random_state=45, n_init = 'auto')\n",
        "  cluster_previsoes = kmeans.fit_predict(dados)\n",
        "\n",
        "  # Calcula o silhouette score médio\n",
        "  silhueta_media = silhouette_score(dados, cluster_previsoes)\n",
        "  print(f'Valor médio para {n_clusters} clusters: {silhueta_media:.3f}')\n",
        "\n",
        "  # Calcula a pontuação de silhueta para cada amostra\n",
        "  silhueta_amostra = silhouette_samples(dados, cluster_previsoes)\n",
        "\n",
        "  # Configuração da figura para o gráfico de silhueta\n",
        "  fig, ax1 = plt.subplots(1, 1)\n",
        "  fig.set_size_inches(9, 7)\n",
        "\n",
        "  # Limites do gráfico de silhueta\n",
        "  ax1.set_xlim([-0.1, 1])\n",
        "  ax1.set_ylim([0, len(dados) + (n_clusters + 1) * 10])\n",
        "\n",
        "  y_lower = 10\n",
        "  for i in range(n_clusters):\n",
        "      ith_cluster_silhueta_amostra = silhueta_amostra[cluster_previsoes == i]\n",
        "      ith_cluster_silhueta_amostra.sort()\n",
        "\n",
        "      tamanho_cluster_i = ith_cluster_silhueta_amostra.shape[0]\n",
        "      y_upper = y_lower + tamanho_cluster_i\n",
        "\n",
        "      cor = cm.nipy_spectral(float(i) / n_clusters)\n",
        "      ax1.fill_betweenx(np.arange(y_lower, y_upper), 0, ith_cluster_silhueta_amostra,\n",
        "                        facecolor=cor, edgecolor=cor, alpha=0.7)\n",
        "\n",
        "      ax1.text(-0.05, y_lower + 0.5 * tamanho_cluster_i, str(i))\n",
        "      y_lower = y_upper + 10  # 10 para o espaço entre gráficos\n",
        "\n",
        "  # Linha vertical para a média do Silhouette Score\n",
        "  ax1.axvline(x=silhueta_media, color='red', linestyle='--')\n",
        "\n",
        "  ax1.set_title(f'Gráfico da Silhueta para {n_clusters} clusters')\n",
        "  ax1.set_xlabel('Valores do coeficiente de silhueta')\n",
        "  ax1.set_ylabel('Rótulo do cluster')\n",
        "\n",
        "  ax1.set_yticks([])  # Remove os ticks do eixo y\n",
        "  ax1.set_xticks([i/10.0 for i in range(-1, 11)])\n",
        "\n",
        "  plt.show()"
      ],
      "metadata": {
        "id": "q7u5mQPQV9J1"
      },
      "execution_count": null,
      "outputs": []
    },
    {
      "cell_type": "code",
      "source": [],
      "metadata": {
        "id": "7dWvuIJmykR1"
      },
      "execution_count": null,
      "outputs": []
    },
    {
      "cell_type": "markdown",
      "source": [
        "### Outras visualizações"
      ],
      "metadata": {
        "id": "3ybQzUklV8Ns"
      }
    },
    {
      "cell_type": "code",
      "source": [],
      "metadata": {
        "id": "93TENuPwyi0l"
      },
      "execution_count": null,
      "outputs": []
    },
    {
      "cell_type": "code",
      "source": [],
      "metadata": {
        "id": "CpO7oL0xyivF"
      },
      "execution_count": null,
      "outputs": []
    },
    {
      "cell_type": "markdown",
      "source": [
        "# Avaliação e ajuste de dados"
      ],
      "metadata": {
        "id": "P9KSZdeeifXu"
      }
    },
    {
      "cell_type": "code",
      "source": [],
      "metadata": {
        "id": "sj0Buri-xoy9"
      },
      "execution_count": null,
      "outputs": []
    },
    {
      "cell_type": "code",
      "source": [],
      "metadata": {
        "id": "rZKtjXLBxotD"
      },
      "execution_count": null,
      "outputs": []
    },
    {
      "cell_type": "code",
      "source": [],
      "metadata": {
        "id": "irokHyTrxomA"
      },
      "execution_count": null,
      "outputs": []
    },
    {
      "cell_type": "code",
      "source": [],
      "metadata": {
        "id": "mIgJY6Rdxofo"
      },
      "execution_count": null,
      "outputs": []
    },
    {
      "cell_type": "markdown",
      "source": [
        "## Verificando as métricas para os novos dados"
      ],
      "metadata": {
        "id": "g3XW-I3miptg"
      }
    },
    {
      "cell_type": "code",
      "source": [],
      "metadata": {
        "id": "6H2bGiC_xloQ"
      },
      "execution_count": null,
      "outputs": []
    },
    {
      "cell_type": "code",
      "source": [],
      "metadata": {
        "id": "TPvtx0XFxlhs"
      },
      "execution_count": null,
      "outputs": []
    },
    {
      "cell_type": "code",
      "source": [],
      "metadata": {
        "id": "6re05zsRxla9"
      },
      "execution_count": null,
      "outputs": []
    },
    {
      "cell_type": "markdown",
      "source": [
        "## Criando o melhor modelo"
      ],
      "metadata": {
        "id": "LOOlJnmoiweU"
      }
    },
    {
      "cell_type": "code",
      "source": [],
      "metadata": {
        "id": "Mi9nHUErxjko"
      },
      "execution_count": null,
      "outputs": []
    },
    {
      "cell_type": "code",
      "source": [],
      "metadata": {
        "id": "AqyJHPn9xjgC"
      },
      "execution_count": null,
      "outputs": []
    },
    {
      "cell_type": "markdown",
      "source": [
        "# Analisando as informações de cada cluster"
      ],
      "metadata": {
        "id": "wjmu8EK-i5Wl"
      }
    },
    {
      "cell_type": "code",
      "source": [],
      "metadata": {
        "id": "-6bFHQPSxCkJ"
      },
      "execution_count": null,
      "outputs": []
    },
    {
      "cell_type": "code",
      "source": [],
      "metadata": {
        "id": "8jL6UdrsxCe_"
      },
      "execution_count": null,
      "outputs": []
    },
    {
      "cell_type": "code",
      "source": [],
      "metadata": {
        "id": "0KjEzCPcxCXn"
      },
      "execution_count": null,
      "outputs": []
    },
    {
      "cell_type": "code",
      "source": [],
      "metadata": {
        "id": "ueoc4LXLxCRI"
      },
      "execution_count": null,
      "outputs": []
    },
    {
      "cell_type": "code",
      "source": [],
      "metadata": {
        "id": "ixMsF5rGxCLP"
      },
      "execution_count": null,
      "outputs": []
    },
    {
      "cell_type": "markdown",
      "source": [
        "## Descrevendo cada agrupamento"
      ],
      "metadata": {
        "id": "8JVUwm9HGzeP"
      }
    },
    {
      "cell_type": "code",
      "source": [],
      "metadata": {
        "id": "ygFk_XLUw_aE"
      },
      "execution_count": null,
      "outputs": []
    },
    {
      "cell_type": "code",
      "source": [],
      "metadata": {
        "id": "nSenYujgw_T4"
      },
      "execution_count": null,
      "outputs": []
    },
    {
      "cell_type": "code",
      "source": [],
      "metadata": {
        "id": "lr6n2Pjiw_N6"
      },
      "execution_count": null,
      "outputs": []
    }
  ]
}